{
 "cells": [
  {
   "cell_type": "code",
   "execution_count": null,
   "id": "eab48b30",
   "metadata": {},
   "outputs": [
    {
     "name": "stdout",
     "output_type": "stream",
     "text": [
      "<class 'float'>\n"
     ]
    }
   ],
   "source": [
    "#1. Variables\n",
    "\n",
    "# 1\n",
    "\n",
    "''' 1. Create a variable named pi and store the value 22/7 in it.\n",
    "Now check the data type of this variable.'''\n",
    "pi=22/7\n",
    "print(type(pi))\n",
    "\n"
   ]
  },
  {
   "cell_type": "code",
   "execution_count": null,
   "id": "53a3e75f",
   "metadata": {},
   "outputs": [
    {
     "ename": "SyntaxError",
     "evalue": "invalid syntax (2201673739.py, line 2)",
     "output_type": "error",
     "traceback": [
      "\u001b[1;36m  Cell \u001b[1;32mIn[3], line 2\u001b[1;36m\u001b[0m\n\u001b[1;33m    for=4\u001b[0m\n\u001b[1;37m       ^\u001b[0m\n\u001b[1;31mSyntaxError\u001b[0m\u001b[1;31m:\u001b[0m invalid syntax\n"
     ]
    }
   ],
   "source": [
    "# 2\n",
    "\n",
    "'''Create a variable called for and assign it a value 4. See what\n",
    "happens and find out the reason behind the behavior that you\n",
    "see.'''\n",
    "for=4\n",
    "print(type(for))"
   ]
  },
  {
   "cell_type": "code",
   "execution_count": null,
   "id": "e051e0e4",
   "metadata": {},
   "outputs": [
    {
     "name": "stdout",
     "output_type": "stream",
     "text": [
      "The principle is   3000\n",
      "The Rate is   2.0\n",
      "The Time is  3 years\n",
      "180.0\n"
     ]
    }
   ],
   "source": [
    "#3\n",
    "''' Store the principal amount, rate of interest, and time in\n",
    "different variables and then calculate the Simple Interest for 3\n",
    "years. Formula: Simple Interest = P x R x T / 100'''\n",
    "principle=int(input(\"Enter a number: \"))\n",
    "print(\"The Amount is \"+ \" \",principle)\n",
    "Rate= float(input(\"Enter a rate: \"))\n",
    "print(\"The Rate is \"+\" \",Rate,\"%\")\n",
    "time= int(input(\"Enter a time: \"))\n",
    "print(\"The Time is \", time, \"years\")\n",
    "simple_interest = (principle * Rate * time) / 100\n",
    "print(simple_interest)"
   ]
  },
  {
   "cell_type": "code",
   "execution_count": null,
   "id": "42e4f38d",
   "metadata": {},
   "outputs": [
    {
     "name": "stdout",
     "output_type": "stream",
     "text": [
      "221\n"
     ]
    }
   ],
   "source": [
    "# Number\n",
    "#1\n",
    "''' Write a function that takes two arguments, 145 and 'o', and\n",
    "uses the `format` function to return a formatted string. Print the\n",
    "result. Try to identify the representation used.'''\n",
    "def format_octal(num,octal):\n",
    "    return format(num,octal)\n",
    "\n",
    "result=format_octal(145,'o')  \n",
    "print(result)\n"
   ]
  },
  {
   "cell_type": "code",
   "execution_count": null,
   "id": "913a9254",
   "metadata": {},
   "outputs": [
    {
     "name": "stdout",
     "output_type": "stream",
     "text": [
      "The radius is  84.0 cm\n",
      "The water square perimeter is  1.4 ltrs\n",
      "The area of the circle is  22155.84\n",
      "The total amount of water in the circle is  31018\n"
     ]
    }
   ],
   "source": [
    "#2\n",
    "'''In a village, there is a circular pond with a radius of 84 meters.\n",
    "Calculate the area of the pond using the formula: Circle Area = π\n",
    "r^2. (Use the value 3.14 for π) Bonus Question: If there is exactly\n",
    "1.4 liters of water in a square meter, what is the total amount of\n",
    "water in the pond? Print the answer without any decimal point in\n",
    "it. Hint: Circle Area = π r^2 Water in the pond = Pond Area\n",
    "Water per Square Meter'''\n",
    "radius = float(input(\"Enter the radius of the circle: \"))\n",
    "print(\"The radius is \", radius,\"cm\")\n",
    "wrq=float(input(\"Enter the Water Sqaure perimeter: \"))\n",
    "print(\"The water square perimeter is \", wrq,\"ltrs\")\n",
    "pi=3.14\n",
    "area = pi * radius ** 2\n",
    "print(\"The area of the circle is \", area)\n",
    "total_amount_of_water = area * wrq\n",
    "print(\"The total amount of water in the circle is \", int(total_amount_of_water))"
   ]
  },
  {
   "cell_type": "code",
   "execution_count": null,
   "id": "9fa459a9",
   "metadata": {},
   "outputs": [
    {
     "name": "stdout",
     "output_type": "stream",
     "text": [
      "The distance is  490.0 m\n",
      "The time is  420.0 seconds\n",
      "The speed is  1 m/s\n"
     ]
    }
   ],
   "source": [
    "#3\n",
    "''' If you cross a 490meterlong street in 7 minutes, calculate your\n",
    "speed in meters per second. Print the answer without any decimal\n",
    "point in it. Hint: Speed = Distance / Time'''\n",
    "\n",
    "distance = float(input(\"Enter the distance in meters: \"))\n",
    "print(\"The distance is \", distance, \"m\")\n",
    "\n",
    "time = float(input(\"Enter the time in minutes: \"))\n",
    "t=time*60\n",
    "print(\"The time is \",t, \"seconds\")\n",
    "speed = distance / t\n",
    "print(\"The speed is \", int(speed), \"m/s\")"
   ]
  },
  {
   "cell_type": "code",
   "execution_count": null,
   "id": "a5da7522",
   "metadata": {},
   "outputs": [
    {
     "name": "stdout",
     "output_type": "stream",
     "text": [
      "['Superman', 'Batman', 'Wonder Woman', 'Flash', 'Aquaman', 'Green Lantern']\n",
      "1\n",
      "The Meber of Justice League is  7\n",
      "2\n",
      "The Members of Justice League are  ['Superman', 'Batman', 'Wonder Woman', 'Flash', 'Aquaman', 'Green Lantern', 'Batgirl', 'Nightwing']\n",
      "3\n",
      "The Members of Justice League are  ['Wonder Woman', 'Superman', 'Batman', 'Flash', 'Aquaman', 'Green Lantern', 'Batgirl', 'Nightwing']\n",
      "4\n",
      "The UPDATED Members of Justice League are  ['Wonder Woman', 'Superman', 'Batman', 'Green Lantern', 'Flash', 'Aquaman', 'Batgirl', 'Nightwing']\n",
      "5\n",
      "New Justice League: ['Cyborg', 'Shazam', 'Hawkgirl', 'Martian Manhunter', 'Green Arrow']\n",
      "6\n",
      "New Leader: Cyborg\n",
      "Sorted Justice league: ['Cyborg', 'Green Arrow', 'Hawkgirl', 'Martian Manhunter', 'Shazam']\n"
     ]
    }
   ],
   "source": [
    "#List\n",
    "#1\n",
    "\n",
    "'''1. You have a list of superheroes representing the Justice\n",
    "League. justice_league = [\"Superman\", \"Batman\", \"Wonder\n",
    "Woman\", \"Flash\", \"Aquaman\", \"Green Lantern\"]\n",
    "Perform the following tasks:\n",
    "1. Calculate the number of members in the Justice League.\n",
    "2. Batman recruited Batgirl and Nightwing as new members.\n",
    "Add them to your list.\n",
    "3. Wonder Woman is now the leader of the Justice League.\n",
    "Move her to the beginning of the list.\n",
    "4. Aquaman and Flash are having conflicts, and you need to\n",
    "separate them. Choose either \"Green Lantern\" or \"Superman\"\n",
    "and move them in between Aquaman and Flash.\n",
    "5. The Justice League faced a crisis, and Superman decided to\n",
    "assemble a new team. Replace the existing list with the following\n",
    "new members: \"Cyborg\", \"Shazam\", \"Hawkgirl\", \"Martian\n",
    "Manhunter\", \"Green Arrow\".\n",
    "6. Sort the Justice League alphabetically. The hero at the 0th\n",
    "index will become the new leader.'''\n",
    "\n",
    "\n",
    "#1\n",
    "justice_league = [\"Superman\", \"Batman\", \"Wonder Woman\", \"Flash\", \"Aquaman\", \"Green Lantern\"]\n",
    "print(justice_league)\n",
    "#2\n",
    "print(\"1\")\n",
    "print(\"The Meber of Justice League is \",len(justice_league)+1)\n",
    "#3\n",
    "print(\"2\")\n",
    "new_member=[\"Batgirl\",\"Nightwing\"]\n",
    "justice_league.append(new_member[0])\n",
    "justice_league.append(new_member[1])\n",
    "print(\"The Members of Justice League are \", justice_league)\n",
    "#4\n",
    "print(\"3\")\n",
    "justice_league.remove(\"Wonder Woman\")\n",
    "justice_league.insert(0,\"Wonder Woman\")\n",
    "print(\"The Members of Justice League are \", justice_league)\n",
    "print(\"4\")\n",
    "flash_index = justice_league.index(\"Flash\")\n",
    "aquaman_index = justice_league.index(\"Aquaman\")\n",
    "\n",
    "min_index = min(flash_index, aquaman_index)\n",
    "max_index = max(flash_index, aquaman_index)\n",
    "\n",
    "if \"Green Lantern\" in justice_league:\n",
    "    justice_league.remove(\"Green Lantern\")\n",
    "justice_league.insert(min_index, \"Green Lantern\")\n",
    "print(\"The UPDATED Members of Justice League are \", justice_league)\n",
    "\n",
    "#5\n",
    "print(\"5\")\n",
    "justice_league = [\"Cyborg\", \"Shazam\", \"Hawkgirl\", \"Martian Manhunter\", \"Green Arrow\"]\n",
    "print(\"New Justice League:\", justice_league)\n",
    "\n",
    "#6\n",
    "print(\"6\")\n",
    "justice_league.sort()\n",
    "print(\"New Leader:\", justice_league[0])\n",
    "print(\"Sorted Justice league:\", justice_league)\n"
   ]
  },
  {
   "cell_type": "code",
   "execution_count": 35,
   "id": "0062194a",
   "metadata": {},
   "outputs": [
    {
     "name": "stdout",
     "output_type": "stream",
     "text": [
      "Your weight is  70.0 kg\n",
      "Your height is  1.75 m\n",
      "Your BMI is  22.86\n",
      "Normal\n"
     ]
    }
   ],
   "source": [
    "#4. If Condition\n",
    "#BMI Calculator\n",
    "def calculate_bmi(weight, height):\n",
    "    return weight / (height ** 2)\n",
    "\n",
    "weight = float(input(\"Enter your weight in kilograms: \"))\n",
    "print(\"Your weight is \", weight, \"kg\")\n",
    "height = float(input(\"Enter your height in meters: \"))\n",
    "print(\"Your height is \", height, \"m\")\n",
    "\n",
    "bmi = calculate_bmi(weight, height)\n",
    "print(\"Your BMI is \", round(bmi, 2))\n",
    "\n",
    "if bmi >= 30:\n",
    "    category = \"Obesity\"\n",
    "    print(category)\n",
    "elif 25 <= bmi < 30:\n",
    "    category = \"Overweight\"\n",
    "    print(category)\n",
    "elif 18.5 <= bmi < 25:\n",
    "    category = \"Normal\"\n",
    "    print(category)\n",
    "else:\n",
    "    category = \"Underweight\"\n",
    "    print(category)\n"
   ]
  },
  {
   "cell_type": "code",
   "execution_count": 36,
   "id": "5d2bb2bb",
   "metadata": {},
   "outputs": [
    {
     "name": "stdout",
     "output_type": "stream",
     "text": [
      "Abu Dhabi is in UAE.\n"
     ]
    }
   ],
   "source": [
    "#2. Write a program to determine which country a city belongs to. Given list of cities per country:\n",
    "Australia = [\"Sydney\", \"Melbourne\", \"Brisbane\", \"Perth\"]\n",
    "UAE = [\"Dubai\", \"Abu Dhabi\", \"Sharjah\", \"Ajman\"]\n",
    "India = [\"Mumbai\", \"Bangalore\", \"Chennai\", \"Delhi\"]\n",
    "\n",
    "city_name = input(\"Enter the name of the city: \")\n",
    "\n",
    "if city_name in Australia or city_name in UAE or city_name in India:\n",
    "    if city_name in Australia:\n",
    "        print(f\"{city_name} is in Australia.\")\n",
    "    elif city_name in UAE:\n",
    "        print(f\"{city_name} is in UAE.\")\n",
    "    elif city_name in India:\n",
    "        print(f\"{city_name} is in India.\")\n",
    "else:\n",
    "    print(f\"{city_name} is not in the list of cities from Australia, UAE, or India.\")\n",
    "\n",
    "\n"
   ]
  },
  {
   "cell_type": "code",
   "execution_count": 42,
   "id": "b4b7f291",
   "metadata": {},
   "outputs": [
    {
     "name": "stdout",
     "output_type": "stream",
     "text": [
      "Sydney and Dubai do not belong to the same country.\n"
     ]
    }
   ],
   "source": [
    "#Write a program to check if two cities belong to the same country.Ask the user to enter two cities and print whether they belong to the same country or not.\n",
    "Australia = [\"Sydney\", \"Melbourne\", \"Brisbane\", \"Perth\"]\n",
    "UAE = [\"Dubai\", \"Abu Dhabi\", \"Sharjah\", \"Ajman\"]\n",
    "India = [\"Mumbai\", \"Bangalore\", \"Chennai\", \"Delhi\"]\n",
    "\n",
    "city1 = input(\"Enter the first city: \")\n",
    "city2 = input(\"Enter the second city: \")\n",
    "\n",
    "if city1 in Australia and city2 in Australia:\n",
    "    print(f\"{city1} and {city2} belong to Australia.\")\n",
    "elif city1 in UAE and city2 in UAE:\n",
    "    print(f\"{city1} and {city2} belong to UAE.\")\n",
    "elif city1 in India and city2 in India:\n",
    "    print(f\"{city1} and {city2} belong to India.\")\n",
    "else:\n",
    "    print(f\"{city1} and {city2} do not belong to the same country.\")\n"
   ]
  },
  {
   "cell_type": "code",
   "execution_count": null,
   "id": "8fbf933a",
   "metadata": {},
   "outputs": [
    {
     "name": "stdout",
     "output_type": "stream",
     "text": [
      "Roll 1: 4\n",
      "Roll 2: 5\n",
      "Roll 3: 6\n",
      "Roll 4: 6\n",
      "Roll 5: 6\n",
      "Roll 6: 4\n",
      "Roll 7: 4\n",
      "Roll 8: 6\n",
      "Roll 9: 5\n",
      "Roll 10: 6\n",
      "Roll 11: 6\n",
      "Roll 12: 1\n",
      "Roll 13: 6\n",
      "Roll 14: 4\n",
      "Roll 15: 3\n",
      "Roll 16: 2\n",
      "Roll 17: 1\n",
      "Roll 18: 1\n",
      "Roll 19: 6\n",
      "Roll 20: 4\n",
      "Roll 21: 6\n",
      "Roll 22: 3\n",
      "Roll 23: 2\n",
      "Roll 24: 6\n",
      "Roll 25: 1\n",
      "Roll 26: 3\n",
      "Roll 27: 3\n",
      "Roll 28: 5\n",
      "Roll 29: 1\n",
      "Roll 30: 6\n",
      "\n",
      "Statstics\n",
      "Total rolls: 6\n",
      "Number of times 6 was rolled: 11\n",
      "Number of times 1 was rolled: 5\n",
      "Number of times double 6 was rolled: 3\n"
     ]
    }
   ],
   "source": [
    "''' '''\n",
    "\n",
    "import random\n",
    "\n",
    "rolls=30\n",
    "count_6=0\n",
    "count_1=0\n",
    "count_double_6=0\n",
    "\n",
    "previous_roll = 0\n",
    "\n",
    "for i in range(rolls):\n",
    "    rolls = random.randint(1, 6)\n",
    "    print(f\"Roll {i + 1}: {rolls}\")\n",
    "\n",
    "    if rolls == 6:\n",
    "        count_6 += 1\n",
    "        if previous_roll == 6:\n",
    "            count_double_6 += 1\n",
    "    if rolls == 1:\n",
    "        count_1 += 1\n",
    "\n",
    "    previous_roll = rolls\n",
    "\n",
    "# Print the results\n",
    "print(\"\\nStatstics\")\n",
    "print(f\"Total rolls: {rolls}\")\n",
    "print(f\"Number of times 6 was rolled: {count_6}\")\n",
    "print(f\"Number of times 1 was rolled: {count_1}\")\n",
    "print(f\"Number of times double 6 was rolled: {count_double_6}\")\n"
   ]
  },
  {
   "cell_type": "code",
   "execution_count": 2,
   "id": "e3a8f306",
   "metadata": {},
   "outputs": [
    {
     "name": "stdout",
     "output_type": "stream",
     "text": [
      "\n",
      "Do 10 jumping jacks!\n",
      "90 jumping jacks remaining. Keep going!\n",
      "\n",
      "Do 10 jumping jacks!\n",
      "80 jumping jacks remaining. Keep going!\n",
      "\n",
      "Do 10 jumping jacks!\n",
      "70 jumping jacks remaining. Keep going!\n",
      "\n",
      "Do 10 jumping jacks!\n",
      "\n",
      "You completed a total of 40 jumping jacks.\n"
     ]
    }
   ],
   "source": [
    "'''Using a for loop, simulate rolling a sixsided die multiple times (at least 20\n",
    "times).\n",
    "Count and print the following statistics:\n",
    "How many times you rolled a 6\n",
    "How many times you rolled a 1\n",
    "How many times you rolled two 6s in a row'''\n",
    "\n",
    "total_jumping_jacks = 100\n",
    "set_size = 10\n",
    "completed = 0\n",
    "\n",
    "for i in range(0, total_jumping_jacks, set_size):\n",
    "    print(f\"\\nDo {set_size} jumping jacks!\")\n",
    "    completed += set_size\n",
    "\n",
    "    # Check if workout is completed\n",
    "    if completed == total_jumping_jacks:\n",
    "        print(\"\\nCongratulations! You completed the workout.\")\n",
    "        break\n",
    "\n",
    "    # Ask if tired\n",
    "    tired = input(\"Are you tired? (yes/y or no/n): \").strip().lower()\n",
    "\n",
    "    if tired in ['yes', 'y']:\n",
    "        skip = input(\"Do you want to skip the remaining sets? (yes/y or no/n): \").strip().lower()\n",
    "        if skip in ['yes', 'y']:\n",
    "            print(f\"\\nYou completed a total of {completed} jumping jacks.\")\n",
    "            break\n",
    "        else:\n",
    "            remaining = total_jumping_jacks - completed\n",
    "            print(f\"{remaining} jumping jacks remaining. Keep going!\")\n",
    "    else:\n",
    "        remaining = total_jumping_jacks - completed\n",
    "        print(f\"{remaining} jumping jacks remaining. Keep going!\")\n"
   ]
  }
 ],
 "metadata": {
  "kernelspec": {
   "display_name": "Python 3",
   "language": "python",
   "name": "python3"
  },
  "language_info": {
   "codemirror_mode": {
    "name": "ipython",
    "version": 3
   },
   "file_extension": ".py",
   "mimetype": "text/x-python",
   "name": "python",
   "nbconvert_exporter": "python",
   "pygments_lexer": "ipython3",
   "version": "3.11.9"
  }
 },
 "nbformat": 4,
 "nbformat_minor": 5
}
